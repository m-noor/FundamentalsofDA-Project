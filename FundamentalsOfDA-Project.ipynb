{
 "cells": [
  {
   "cell_type": "markdown",
   "metadata": {},
   "source": [
    "# Fundamentals of Data Analysis - Project\n",
    "\n",
    "\n",
    "## Abstract\n",
    "\n",
    "\n",
    "In this project, you will investigate and explain box plots and their uses.\n",
    "\n",
    "In your notebook, you should:\n",
    "• Summarise the history of the box plot and situations in which it used.\n",
    "• Demonstrate the use of the box plot using data of your choosing.\n",
    "• Explain any relevant terminology such as the terms quartile and percentile.\n",
    "• Compare the box plot to alternatives.\n",
    "\n",
    "Box plot is one of the many tools used during exploratory data analysis, as it conveys a multitude of information visually. Its history stems from the work by John W. Tukey in 1969 that was further popularized by his formal publication in 1977. In this Jupyter Python notebook, the Road Accident Deaths in US States dataset is examined by box plots. Finally, a comparison of box plot to several other types of plots is also made to illustrate the advantages and disadvantages of box plot. All the plots herein are fully interactive, allowing the user to zoom in/out, rescale the axis and edit them with the Plotly Chart Studio. \n",
    "\n",
    "\n",
    "http://vita.had.co.nz/papers/boxplots.pdf\n",
    "\n",
    "\n",
    "\n",
    "\n",
    "## Table of Contents\n",
    "\n",
    "1. [Introduction](#introduction)\n",
    "1. [Exploratory Data Analysis (EDA)](#eda)\n",
    "1. [Methods for Data Synthesis / Simulation](#methodsForSimulation)\n",
    "1. [Generation of a synthetic dataset](#generationOfSyntheticDataset)\n",
    "1. [RMSD](#RMSD)\n",
    "1. [Total Surface Area](#TotalArea)\n",
    "1. [Discussion](#discussion)\n",
    "1. [Conclusion](#conclusion)\n",
    "\n",
    "\n",
    "## <a id='introduction'></a>Introduction - History of Box Plot and Its Uses\n",
    "\n",
    "Prior to performing more computationally-expensive analysis such as machine learning, it is important to visually and numerically explore the dataset in question. There are several approaches that can be taken, including [boxplots](https://en.wikipedia.org/wiki/Box_plot), violin plots, correlation matrices, histograms and kernel density estimates - these are not mutually exclusive and can be achieved by simple commands. These approaches can be further augmented by interactive plots, enabled by Plotly and Bokeh libraries. The figure below summarizes the different Python plotting libraries.\n",
    "\n",
    "<img src='Python-plot-tools.png' width='500'>\n",
    "<div align='right'><i>Taken from <a href='http://pbpython.com/python-vis-flowchart.html'>PbPython</i></a></div>\n",
    "\n",
    "As the name suggests, box plots consist of a rectangle with a band within, as shown by the figure below.\n",
    "\n",
    "<img src='boxplot_without_whiskers.png' width='200'>\n",
    "<div align='right'><i>Taken from a <a href='https://stackoverflow.com/questions/18459287/remove-whiskers-in-box-whisker-plot'>StackOverflow post</i></a></div>\n",
    "\n",
    "More often that not, this rectangle is also extended by lines ('whiskers'), leading these plots to be termed box and whisker plots. The anatomy of a box and whisker plot (hereafter, the term 'box plot' will be used) is described by the following figure:\n",
    "\n",
    "<img src='simple_box_defs.gif' width='300'>\n",
    "<div align='right'><i>Taken from <a href='http://www.physics.csbsju.edu/stats/box2.html'>Statistics to Use</i></a></div>\n",
    "\n",
    "1. Minimum and maximum - these are the minimum and maximum values for a given dataset and are represented by the whiskers.\n",
    "1. A dataset can be divided into quarters (4 parts) or percentiles (100 parts). These are collectively known as [quantiles](https://en.wikipedia.org/wiki/Quantile), and a dataset can be split in more ways than these two.\n",
    "    1. When split into two equal portions, **median is the value in the middle** (for odd number of data points) or the average of the two middle data points (for even number of data points). The data has to be sorted in increasing order first.\n",
    "<img src='Finding_the_median.png' width='200'>\n",
    "<div align='right'><i>Taken from <a href='https://en.wikipedia.org/wiki/Median'>Wikipedia: Median</i></a></div><br>\n",
    "    1. The first half can then be further split into two, with the 'median' of this subset being the **first quartile**, representing the first quarter or 25 % of the dataset. In other words, 25 % of the values lie below the first quartile, and the rest are above it. Similarly, the second half of the original dataset will have its 'median' as the **third quartile**, where 75 % of the values are below it and the rest are above. In case you are wondering, the **second quartile** is really the median of the parent dataset (as explained in the previous point above).<br><br>\n",
    "    1. The first quartile is marked by the first side of the rectangle, the median by the band within the rectangle and the third quartile by the other side.The **interquartile range (IQR)** is the value of the third quartile minus the first quartile.<br><br>\n",
    "    1. Outliers were [defined by Tukey as either](http://www.physics.csbsju.edu/stats/box2.html):\n",
    "        1. outliers that are more than 3 times IQR (3 x IQR) above the third quartile or below the first quartile (marked as filled circles)\n",
    "        1. suspected outliers that are 1.5 x IQR above the third quartile or below the first quartile (unfilled circles)\n",
    "       When outliers are present, the whiskers are extended only to the 1.5 x IQR and not the actual minimum and maximum values.\n",
    "       \n",
    "       <img src='complex_box_defs.gif' width='300'>\n",
    "<div align='right'><i>Taken from <a href='http://www.physics.csbsju.edu/stats/box2.html'>Statistics to Use</i></a></div>\n",
    "\n",
    "The papers by [Lisa Stryjewski (2010)](https://www.semanticscholar.org/paper/40-years-of-boxplots-Stryjewski/d31505d5b6d61ad75a5ae6ded8fa5b7202e66372) and [Hadley Wickham and Lisa Stryjewski (2011)](http://vita.had.co.nz/papers/boxplots.pdf) provide several tools that can complement Tukey's box plot, including as a two-dimensional visualization.\n",
    "\n",
    "For illustrative purposes, in this notebook, the [Road Accident Deaths in US States dataset](https://vincentarelbundock.github.io/Rdatasets/doc/MASS/road.html) will be used. This dataset contains the annual deaths caused by road accidents for half the US states (26 states). The dataset, in column-separated values (csv) format, will first be imported using the Pandas library and analyzed by various Plotly-based visualizations."
   ]
  },
  {
   "cell_type": "code",
   "execution_count": null,
   "metadata": {},
   "outputs": [],
   "source": [
    "import pandas as pd\n",
    "df = pd.read_csv('road.csv')\n",
    "\n",
    "# to make interactive plots with plotly\n",
    "import plotly.figure_factory as ff\n",
    "import plotly.graph_objs as go\n",
    "from plotly.offline import download_plotlyjs, init_notebook_mode, iplot\n",
    "init_notebook_mode(connected=True)\n",
    "from plotly import tools"
   ]
  },
  {
   "cell_type": "markdown",
   "metadata": {},
   "source": [
    "## <a id='eda'></a>Exploratory Data Analysis (EDA)\n",
    "We will first look at the data structure and make modifications as required."
   ]
  },
  {
   "cell_type": "code",
   "execution_count": null,
   "metadata": {
    "scrolled": true
   },
   "outputs": [],
   "source": [
    "df.head() # check to ensure reading the csv file worked as intended"
   ]
  },
  {
   "cell_type": "markdown",
   "metadata": {},
   "source": [
    "From above, we can determine that we have 7 columns, with the first being a character/text column and the rest are numeric. \n",
    "\n",
    "For some reason, the first column, which contains the names of the states in the United States of America, is not labelled. The other column headers are not really descriptive, so we will rename these first. Additionally, the state 'Arkanas' is a mispelling of Arkansas - probably there are other mistakes as well."
   ]
  },
  {
   "cell_type": "code",
   "execution_count": null,
   "metadata": {},
   "outputs": [],
   "source": [
    "# rename columns based on information from the source webpage (not all needs renaming)\n",
    "# Columns are:\n",
    "# \n",
    "# state\n",
    "# deaths - number of deaths.\n",
    "# drivers - number of drivers (in 10,000s).\n",
    "# popden - population density in people per square mile.\n",
    "# rural - length of rural roads, in 1000s of miles.\n",
    "# temp - average daily maximum temperature in January.\n",
    "# fuel - fuel consumption in 10,000,000 US gallons per year.\n",
    "\n",
    "df.rename(columns={'Unnamed: 0': 'State',\n",
    "                   'deaths': 'Deaths',\n",
    "                   'drivers': 'Number of drivers (10,000)',\n",
    "                   'popden': 'Population density (people/mile**2)',\n",
    "                   'rural': 'Length of rural roads (1000 miles)',\n",
    "                   'temp': 'Average daily max temperature in Jan',\n",
    "                   'fuel': 'Fuel consumption (10**7 US gal/year)'\n",
    "                  }, inplace = True)"
   ]
  },
  {
   "cell_type": "markdown",
   "metadata": {},
   "source": [
    "Looking at the State column, we can see a mixture of full and abbreviated state names. As not everyone is familiar with the abbreviations, these states will also be renamed. For example, Miss could be interpreted as either Mississippi or Missouri. Fortunately, standardized abbreviations are [available](https://en.wikipedia.org/wiki/List_of_U.S._state_abbreviations)."
   ]
  },
  {
   "cell_type": "code",
   "execution_count": null,
   "metadata": {},
   "outputs": [],
   "source": [
    "# https://stackoverflow.com/questions/44218091/\n",
    "df.loc[df['State'] == 'Calif', 'State'] = 'California'\n",
    "df.loc[df['State'] == 'Colo', 'State'] = 'Colorado'\n",
    "df.loc[df['State'] == 'Conn', 'State'] = 'Connecticut'\n",
    "\n",
    "df.loc[df['State'] == 'Dela', 'State'] = 'Delaware'\n",
    "df.loc[df['State'] == 'DC', 'State'] = 'Washington DC'\n",
    "df.loc[df['State'] == 'Ill', 'State'] = 'Illinois'\n",
    "df.loc[df['State'] == 'Ind', 'State'] = 'Indiana'\n",
    "\n",
    "df.loc[df['State'] == 'Kent', 'State'] = 'Kentucky'\n",
    "df.loc[df['State'] == 'Louis', 'State'] = 'Louisiana'\n",
    "df.loc[df['State'] == 'Maryl', 'State'] = 'Maryland'\n",
    "df.loc[df['State'] == 'Mass', 'State'] = 'Massachusetts'\n",
    "\n",
    "df.loc[df['State'] == 'Mich', 'State'] = 'Michigan'\n",
    "df.loc[df['State'] == 'Minn', 'State'] = 'Minnesota'\n",
    "df.loc[df['State'] == 'Miss', 'State'] = 'Mississippi'\n",
    "df.loc[df['State'] == 'Mo', 'State'] = 'Missouri'\n",
    "df.loc[df['State'] == 'Mont', 'State'] = 'Montana'\n",
    "\n",
    "# State Arkanas is spelled incorrectly\n",
    "df.loc[df['State'] == 'Arkanas', 'State'] = 'Arkansas'"
   ]
  },
  {
   "cell_type": "markdown",
   "metadata": {},
   "source": [
    "Before proceeding further, we should inspect the entire dataset first to ensure all the mistakes and column renaming operations above were completed correctly and that there are no missing values."
   ]
  },
  {
   "cell_type": "code",
   "execution_count": null,
   "metadata": {
    "scrolled": true
   },
   "outputs": [],
   "source": [
    "df"
   ]
  },
  {
   "cell_type": "markdown",
   "metadata": {},
   "source": [
    "As we can see above, the column labels are more descriptive. Because the dataset is quite small, no memory optimization/downcast operations are needed.\n",
    "\n",
    "We can now start building a simple box plot."
   ]
  },
  {
   "cell_type": "code",
   "execution_count": 7,
   "metadata": {},
   "outputs": [
    {
     "data": {
      "application/vnd.plotly.v1+json": {
       "config": {
        "linkText": "Export to plot.ly",
        "plotlyServerURL": "https://plot.ly",
        "showLink": true
       },
       "data": [
        {
         "boxmean": true,
         "boxpoints": "all",
         "marker": {
          "size": 3
         },
         "text": [
          "Alabama",
          "Alaska",
          "Arizona",
          "Arkansas",
          "California",
          "Colorado",
          "Connecticut",
          "Delaware",
          "Washington DC",
          "Florida",
          "Georgia",
          "Idaho",
          "Illinois",
          "Indiana",
          "Iowa",
          "Kansas",
          "Kentucky",
          "Louisiana",
          "Maine",
          "Maryland",
          "Massachusetts",
          "Michigan",
          "Minnesota",
          "Mississippi",
          "Missouri",
          "Montana"
         ],
         "type": "box",
         "uid": "58de0b4f-134c-4d16-84b5-5c8ccb68443b",
         "xaxis": "x",
         "y": [
          968,
          43,
          588,
          640,
          4743,
          566,
          325,
          118,
          115,
          1545,
          1302,
          262,
          2207,
          1410,
          833,
          669,
          911,
          1037,
          1196,
          616,
          766,
          2120,
          841,
          648,
          1289,
          259
         ],
         "yaxis": "y"
        },
        {
         "boxmean": true,
         "boxpoints": "all",
         "marker": {
          "size": 3
         },
         "text": [
          "Alabama",
          "Alaska",
          "Arizona",
          "Arkansas",
          "California",
          "Colorado",
          "Connecticut",
          "Delaware",
          "Washington DC",
          "Florida",
          "Georgia",
          "Idaho",
          "Illinois",
          "Indiana",
          "Iowa",
          "Kansas",
          "Kentucky",
          "Louisiana",
          "Maine",
          "Maryland",
          "Massachusetts",
          "Michigan",
          "Minnesota",
          "Mississippi",
          "Missouri",
          "Montana"
         ],
         "type": "box",
         "uid": "6bf5d12f-bd32-43ac-8c18-6fc1f2af27b4",
         "xaxis": "x2",
         "y": [
          158,
          11,
          91,
          92,
          952,
          109,
          167,
          30,
          35,
          298,
          203,
          41,
          544,
          254,
          150,
          136,
          147,
          146,
          46,
          157,
          255,
          403,
          189,
          85,
          234,
          38
         ],
         "yaxis": "y2"
        },
        {
         "boxmean": true,
         "boxpoints": "all",
         "marker": {
          "size": 3
         },
         "text": [
          "Alabama",
          "Alaska",
          "Arizona",
          "Arkansas",
          "California",
          "Colorado",
          "Connecticut",
          "Delaware",
          "Washington DC",
          "Florida",
          "Georgia",
          "Idaho",
          "Illinois",
          "Indiana",
          "Iowa",
          "Kansas",
          "Kentucky",
          "Louisiana",
          "Maine",
          "Maryland",
          "Massachusetts",
          "Michigan",
          "Minnesota",
          "Mississippi",
          "Missouri",
          "Montana"
         ],
         "type": "box",
         "uid": "f4681600-6078-4c1d-9792-9e25cda0e7f8",
         "xaxis": "x3",
         "y": [
          64,
          0.4,
          12,
          34,
          100,
          17,
          518,
          226,
          12524,
          91,
          68,
          8.1,
          180,
          129,
          49,
          27,
          76,
          72,
          31,
          314,
          655,
          137,
          43,
          46,
          63,
          4.6
         ],
         "yaxis": "y3"
        },
        {
         "boxmean": true,
         "boxpoints": "all",
         "marker": {
          "size": 3
         },
         "text": [
          "Alabama",
          "Alaska",
          "Arizona",
          "Arkansas",
          "California",
          "Colorado",
          "Connecticut",
          "Delaware",
          "Washington DC",
          "Florida",
          "Georgia",
          "Idaho",
          "Illinois",
          "Indiana",
          "Iowa",
          "Kansas",
          "Kentucky",
          "Louisiana",
          "Maine",
          "Maryland",
          "Massachusetts",
          "Michigan",
          "Minnesota",
          "Mississippi",
          "Missouri",
          "Montana"
         ],
         "type": "box",
         "uid": "1e34bd3e-cc0b-4b2a-b97c-e7aabd968054",
         "xaxis": "x4",
         "y": [
          66,
          5.9,
          33,
          73,
          118,
          73,
          5.1,
          3.4,
          0,
          57,
          83,
          40,
          102,
          89,
          100,
          124,
          65,
          40,
          19,
          29,
          17,
          95,
          110,
          59,
          100,
          72
         ],
         "yaxis": "y4"
        },
        {
         "boxmean": true,
         "boxpoints": "all",
         "marker": {
          "size": 3
         },
         "text": [
          "Alabama",
          "Alaska",
          "Arizona",
          "Arkansas",
          "California",
          "Colorado",
          "Connecticut",
          "Delaware",
          "Washington DC",
          "Florida",
          "Georgia",
          "Idaho",
          "Illinois",
          "Indiana",
          "Iowa",
          "Kansas",
          "Kentucky",
          "Louisiana",
          "Maine",
          "Maryland",
          "Massachusetts",
          "Michigan",
          "Minnesota",
          "Mississippi",
          "Missouri",
          "Montana"
         ],
         "type": "box",
         "uid": "ca912959-cb35-4cc1-bdc8-44e07d324f4c",
         "xaxis": "x5",
         "y": [
          62,
          30,
          64,
          51,
          65,
          42,
          37,
          41,
          44,
          67,
          54,
          36,
          33,
          37,
          30,
          42,
          44,
          65,
          30,
          44,
          37,
          33,
          22,
          57,
          40,
          29
         ],
         "yaxis": "y5"
        },
        {
         "boxmean": true,
         "boxpoints": "all",
         "marker": {
          "size": 3
         },
         "text": [
          "Alabama",
          "Alaska",
          "Arizona",
          "Arkansas",
          "California",
          "Colorado",
          "Connecticut",
          "Delaware",
          "Washington DC",
          "Florida",
          "Georgia",
          "Idaho",
          "Illinois",
          "Indiana",
          "Iowa",
          "Kansas",
          "Kentucky",
          "Louisiana",
          "Maine",
          "Maryland",
          "Massachusetts",
          "Michigan",
          "Minnesota",
          "Mississippi",
          "Missouri",
          "Montana"
         ],
         "type": "box",
         "uid": "02de02df-aec8-4049-887a-5642dcfa7400",
         "xaxis": "x6",
         "y": [
          119,
          6.2,
          65,
          74,
          105,
          78,
          95,
          20,
          23,
          216,
          162,
          29,
          350,
          196,
          109,
          94,
          104,
          109,
          37,
          113,
          166,
          306,
          132,
          77,
          180,
          31
         ],
         "yaxis": "y6"
        }
       ],
       "layout": {
        "annotations": [
         {
          "font": {
           "size": 10
          },
          "showarrow": false,
          "text": "Deaths",
          "x": 0.14444444444444446,
          "xanchor": "center",
          "xref": "paper",
          "y": 1,
          "yanchor": "bottom",
          "yref": "paper"
         },
         {
          "font": {
           "size": 10
          },
          "showarrow": false,
          "text": "Number of drivers (10,000)",
          "x": 0.5,
          "xanchor": "center",
          "xref": "paper",
          "y": 1,
          "yanchor": "bottom",
          "yref": "paper"
         },
         {
          "font": {
           "size": 10
          },
          "showarrow": false,
          "text": "Population density (people/mile**2)",
          "x": 0.8555555555555556,
          "xanchor": "center",
          "xref": "paper",
          "y": 1,
          "yanchor": "bottom",
          "yref": "paper"
         },
         {
          "font": {
           "size": 10
          },
          "showarrow": false,
          "text": "Length of rural roads (1000 miles)",
          "x": 0.14444444444444446,
          "xanchor": "center",
          "xref": "paper",
          "y": 0.375,
          "yanchor": "bottom",
          "yref": "paper"
         },
         {
          "font": {
           "size": 10
          },
          "showarrow": false,
          "text": "Average daily max temperature in Jan",
          "x": 0.5,
          "xanchor": "center",
          "xref": "paper",
          "y": 0.375,
          "yanchor": "bottom",
          "yref": "paper"
         },
         {
          "font": {
           "size": 10
          },
          "showarrow": false,
          "text": "Fuel consumption (10**7 US gal/year)",
          "x": 0.8555555555555556,
          "xanchor": "center",
          "xref": "paper",
          "y": 0.375,
          "yanchor": "bottom",
          "yref": "paper"
         }
        ],
        "height": 800,
        "showlegend": false,
        "title": "<b>Figure 1: Box Plot of the Road Accidents dataset</b>",
        "width": 800,
        "xaxis": {
         "anchor": "y",
         "domain": [
          0,
          0.2888888888888889
         ],
         "showticklabels": false
        },
        "xaxis2": {
         "anchor": "y2",
         "domain": [
          0.35555555555555557,
          0.6444444444444445
         ],
         "showticklabels": false
        },
        "xaxis3": {
         "anchor": "y3",
         "domain": [
          0.7111111111111111,
          1
         ],
         "showticklabels": false
        },
        "xaxis4": {
         "anchor": "y4",
         "domain": [
          0,
          0.2888888888888889
         ],
         "showticklabels": false
        },
        "xaxis5": {
         "anchor": "y5",
         "domain": [
          0.35555555555555557,
          0.6444444444444445
         ],
         "showticklabels": false
        },
        "xaxis6": {
         "anchor": "y6",
         "domain": [
          0.7111111111111111,
          1
         ],
         "showticklabels": false
        },
        "yaxis": {
         "anchor": "x",
         "domain": [
          0.625,
          1
         ]
        },
        "yaxis2": {
         "anchor": "x2",
         "domain": [
          0.625,
          1
         ]
        },
        "yaxis3": {
         "anchor": "x3",
         "domain": [
          0.625,
          1
         ]
        },
        "yaxis4": {
         "anchor": "x4",
         "domain": [
          0,
          0.375
         ]
        },
        "yaxis5": {
         "anchor": "x5",
         "domain": [
          0,
          0.375
         ]
        },
        "yaxis6": {
         "anchor": "x6",
         "domain": [
          0,
          0.375
         ]
        }
       }
      },
      "text/html": [
       "<div id=\"16d757b3-608c-4be0-92cb-9f39f7a4f95d\" style=\"height: 800px; width: 800px;\" class=\"plotly-graph-div\"></div><script type=\"text/javascript\">require([\"plotly\"], function(Plotly) { window.PLOTLYENV=window.PLOTLYENV || {};window.PLOTLYENV.BASE_URL=\"https://plot.ly\";Plotly.newPlot(\"16d757b3-608c-4be0-92cb-9f39f7a4f95d\", [{\"boxmean\": true, \"boxpoints\": \"all\", \"marker\": {\"size\": 3}, \"text\": [\"Alabama\", \"Alaska\", \"Arizona\", \"Arkansas\", \"California\", \"Colorado\", \"Connecticut\", \"Delaware\", \"Washington DC\", \"Florida\", \"Georgia\", \"Idaho\", \"Illinois\", \"Indiana\", \"Iowa\", \"Kansas\", \"Kentucky\", \"Louisiana\", \"Maine\", \"Maryland\", \"Massachusetts\", \"Michigan\", \"Minnesota\", \"Mississippi\", \"Missouri\", \"Montana\"], \"y\": [968, 43, 588, 640, 4743, 566, 325, 118, 115, 1545, 1302, 262, 2207, 1410, 833, 669, 911, 1037, 1196, 616, 766, 2120, 841, 648, 1289, 259], \"type\": \"box\", \"uid\": \"58de0b4f-134c-4d16-84b5-5c8ccb68443b\", \"xaxis\": \"x\", \"yaxis\": \"y\"}, {\"boxmean\": true, \"boxpoints\": \"all\", \"marker\": {\"size\": 3}, \"text\": [\"Alabama\", \"Alaska\", \"Arizona\", \"Arkansas\", \"California\", \"Colorado\", \"Connecticut\", \"Delaware\", \"Washington DC\", \"Florida\", \"Georgia\", \"Idaho\", \"Illinois\", \"Indiana\", \"Iowa\", \"Kansas\", \"Kentucky\", \"Louisiana\", \"Maine\", \"Maryland\", \"Massachusetts\", \"Michigan\", \"Minnesota\", \"Mississippi\", \"Missouri\", \"Montana\"], \"y\": [158, 11, 91, 92, 952, 109, 167, 30, 35, 298, 203, 41, 544, 254, 150, 136, 147, 146, 46, 157, 255, 403, 189, 85, 234, 38], \"type\": \"box\", \"uid\": \"6bf5d12f-bd32-43ac-8c18-6fc1f2af27b4\", \"xaxis\": \"x2\", \"yaxis\": \"y2\"}, {\"boxmean\": true, \"boxpoints\": \"all\", \"marker\": {\"size\": 3}, \"text\": [\"Alabama\", \"Alaska\", \"Arizona\", \"Arkansas\", \"California\", \"Colorado\", \"Connecticut\", \"Delaware\", \"Washington DC\", \"Florida\", \"Georgia\", \"Idaho\", \"Illinois\", \"Indiana\", \"Iowa\", \"Kansas\", \"Kentucky\", \"Louisiana\", \"Maine\", \"Maryland\", \"Massachusetts\", \"Michigan\", \"Minnesota\", \"Mississippi\", \"Missouri\", \"Montana\"], \"y\": [64.0, 0.4, 12.0, 34.0, 100.0, 17.0, 518.0, 226.0, 12524.0, 91.0, 68.0, 8.1, 180.0, 129.0, 49.0, 27.0, 76.0, 72.0, 31.0, 314.0, 655.0, 137.0, 43.0, 46.0, 63.0, 4.6], \"type\": \"box\", \"uid\": \"f4681600-6078-4c1d-9792-9e25cda0e7f8\", \"xaxis\": \"x3\", \"yaxis\": \"y3\"}, {\"boxmean\": true, \"boxpoints\": \"all\", \"marker\": {\"size\": 3}, \"text\": [\"Alabama\", \"Alaska\", \"Arizona\", \"Arkansas\", \"California\", \"Colorado\", \"Connecticut\", \"Delaware\", \"Washington DC\", \"Florida\", \"Georgia\", \"Idaho\", \"Illinois\", \"Indiana\", \"Iowa\", \"Kansas\", \"Kentucky\", \"Louisiana\", \"Maine\", \"Maryland\", \"Massachusetts\", \"Michigan\", \"Minnesota\", \"Mississippi\", \"Missouri\", \"Montana\"], \"y\": [66.0, 5.9, 33.0, 73.0, 118.0, 73.0, 5.1, 3.4, 0.0, 57.0, 83.0, 40.0, 102.0, 89.0, 100.0, 124.0, 65.0, 40.0, 19.0, 29.0, 17.0, 95.0, 110.0, 59.0, 100.0, 72.0], \"type\": \"box\", \"uid\": \"1e34bd3e-cc0b-4b2a-b97c-e7aabd968054\", \"xaxis\": \"x4\", \"yaxis\": \"y4\"}, {\"boxmean\": true, \"boxpoints\": \"all\", \"marker\": {\"size\": 3}, \"text\": [\"Alabama\", \"Alaska\", \"Arizona\", \"Arkansas\", \"California\", \"Colorado\", \"Connecticut\", \"Delaware\", \"Washington DC\", \"Florida\", \"Georgia\", \"Idaho\", \"Illinois\", \"Indiana\", \"Iowa\", \"Kansas\", \"Kentucky\", \"Louisiana\", \"Maine\", \"Maryland\", \"Massachusetts\", \"Michigan\", \"Minnesota\", \"Mississippi\", \"Missouri\", \"Montana\"], \"y\": [62, 30, 64, 51, 65, 42, 37, 41, 44, 67, 54, 36, 33, 37, 30, 42, 44, 65, 30, 44, 37, 33, 22, 57, 40, 29], \"type\": \"box\", \"uid\": \"ca912959-cb35-4cc1-bdc8-44e07d324f4c\", \"xaxis\": \"x5\", \"yaxis\": \"y5\"}, {\"boxmean\": true, \"boxpoints\": \"all\", \"marker\": {\"size\": 3}, \"text\": [\"Alabama\", \"Alaska\", \"Arizona\", \"Arkansas\", \"California\", \"Colorado\", \"Connecticut\", \"Delaware\", \"Washington DC\", \"Florida\", \"Georgia\", \"Idaho\", \"Illinois\", \"Indiana\", \"Iowa\", \"Kansas\", \"Kentucky\", \"Louisiana\", \"Maine\", \"Maryland\", \"Massachusetts\", \"Michigan\", \"Minnesota\", \"Mississippi\", \"Missouri\", \"Montana\"], \"y\": [119.0, 6.2, 65.0, 74.0, 105.0, 78.0, 95.0, 20.0, 23.0, 216.0, 162.0, 29.0, 350.0, 196.0, 109.0, 94.0, 104.0, 109.0, 37.0, 113.0, 166.0, 306.0, 132.0, 77.0, 180.0, 31.0], \"type\": \"box\", \"uid\": \"02de02df-aec8-4049-887a-5642dcfa7400\", \"xaxis\": \"x6\", \"yaxis\": \"y6\"}], {\"annotations\": [{\"font\": {\"size\": 10}, \"showarrow\": false, \"text\": \"Deaths\", \"x\": 0.14444444444444446, \"xanchor\": \"center\", \"xref\": \"paper\", \"y\": 1.0, \"yanchor\": \"bottom\", \"yref\": \"paper\"}, {\"font\": {\"size\": 10}, \"showarrow\": false, \"text\": \"Number of drivers (10,000)\", \"x\": 0.5, \"xanchor\": \"center\", \"xref\": \"paper\", \"y\": 1.0, \"yanchor\": \"bottom\", \"yref\": \"paper\"}, {\"font\": {\"size\": 10}, \"showarrow\": false, \"text\": \"Population density (people/mile**2)\", \"x\": 0.8555555555555556, \"xanchor\": \"center\", \"xref\": \"paper\", \"y\": 1.0, \"yanchor\": \"bottom\", \"yref\": \"paper\"}, {\"font\": {\"size\": 10}, \"showarrow\": false, \"text\": \"Length of rural roads (1000 miles)\", \"x\": 0.14444444444444446, \"xanchor\": \"center\", \"xref\": \"paper\", \"y\": 0.375, \"yanchor\": \"bottom\", \"yref\": \"paper\"}, {\"font\": {\"size\": 10}, \"showarrow\": false, \"text\": \"Average daily max temperature in Jan\", \"x\": 0.5, \"xanchor\": \"center\", \"xref\": \"paper\", \"y\": 0.375, \"yanchor\": \"bottom\", \"yref\": \"paper\"}, {\"font\": {\"size\": 10}, \"showarrow\": false, \"text\": \"Fuel consumption (10**7 US gal/year)\", \"x\": 0.8555555555555556, \"xanchor\": \"center\", \"xref\": \"paper\", \"y\": 0.375, \"yanchor\": \"bottom\", \"yref\": \"paper\"}], \"xaxis\": {\"anchor\": \"y\", \"domain\": [0.0, 0.2888888888888889], \"showticklabels\": false}, \"yaxis\": {\"anchor\": \"x\", \"domain\": [0.625, 1.0]}, \"xaxis2\": {\"anchor\": \"y2\", \"domain\": [0.35555555555555557, 0.6444444444444445], \"showticklabels\": false}, \"yaxis2\": {\"anchor\": \"x2\", \"domain\": [0.625, 1.0]}, \"xaxis3\": {\"anchor\": \"y3\", \"domain\": [0.7111111111111111, 1.0], \"showticklabels\": false}, \"yaxis3\": {\"anchor\": \"x3\", \"domain\": [0.625, 1.0]}, \"xaxis4\": {\"anchor\": \"y4\", \"domain\": [0.0, 0.2888888888888889], \"showticklabels\": false}, \"yaxis4\": {\"anchor\": \"x4\", \"domain\": [0.0, 0.375]}, \"xaxis5\": {\"anchor\": \"y5\", \"domain\": [0.35555555555555557, 0.6444444444444445], \"showticklabels\": false}, \"yaxis5\": {\"anchor\": \"x5\", \"domain\": [0.0, 0.375]}, \"xaxis6\": {\"anchor\": \"y6\", \"domain\": [0.7111111111111111, 1.0], \"showticklabels\": false}, \"yaxis6\": {\"anchor\": \"x6\", \"domain\": [0.0, 0.375]}, \"height\": 800, \"width\": 800, \"title\": \"<b>Figure 1: Box Plot of the Road Accidents dataset</b>\", \"showlegend\": false}, {\"showLink\": true, \"linkText\": \"Export to plot.ly\", \"plotlyServerURL\": \"https://plot.ly\"})});</script>"
      ],
      "text/vnd.plotly.v1+html": [
       "<div id=\"16d757b3-608c-4be0-92cb-9f39f7a4f95d\" style=\"height: 800px; width: 800px;\" class=\"plotly-graph-div\"></div><script type=\"text/javascript\">require([\"plotly\"], function(Plotly) { window.PLOTLYENV=window.PLOTLYENV || {};window.PLOTLYENV.BASE_URL=\"https://plot.ly\";Plotly.newPlot(\"16d757b3-608c-4be0-92cb-9f39f7a4f95d\", [{\"boxmean\": true, \"boxpoints\": \"all\", \"marker\": {\"size\": 3}, \"text\": [\"Alabama\", \"Alaska\", \"Arizona\", \"Arkansas\", \"California\", \"Colorado\", \"Connecticut\", \"Delaware\", \"Washington DC\", \"Florida\", \"Georgia\", \"Idaho\", \"Illinois\", \"Indiana\", \"Iowa\", \"Kansas\", \"Kentucky\", \"Louisiana\", \"Maine\", \"Maryland\", \"Massachusetts\", \"Michigan\", \"Minnesota\", \"Mississippi\", \"Missouri\", \"Montana\"], \"y\": [968, 43, 588, 640, 4743, 566, 325, 118, 115, 1545, 1302, 262, 2207, 1410, 833, 669, 911, 1037, 1196, 616, 766, 2120, 841, 648, 1289, 259], \"type\": \"box\", \"uid\": \"58de0b4f-134c-4d16-84b5-5c8ccb68443b\", \"xaxis\": \"x\", \"yaxis\": \"y\"}, {\"boxmean\": true, \"boxpoints\": \"all\", \"marker\": {\"size\": 3}, \"text\": [\"Alabama\", \"Alaska\", \"Arizona\", \"Arkansas\", \"California\", \"Colorado\", \"Connecticut\", \"Delaware\", \"Washington DC\", \"Florida\", \"Georgia\", \"Idaho\", \"Illinois\", \"Indiana\", \"Iowa\", \"Kansas\", \"Kentucky\", \"Louisiana\", \"Maine\", \"Maryland\", \"Massachusetts\", \"Michigan\", \"Minnesota\", \"Mississippi\", \"Missouri\", \"Montana\"], \"y\": [158, 11, 91, 92, 952, 109, 167, 30, 35, 298, 203, 41, 544, 254, 150, 136, 147, 146, 46, 157, 255, 403, 189, 85, 234, 38], \"type\": \"box\", \"uid\": \"6bf5d12f-bd32-43ac-8c18-6fc1f2af27b4\", \"xaxis\": \"x2\", \"yaxis\": \"y2\"}, {\"boxmean\": true, \"boxpoints\": \"all\", \"marker\": {\"size\": 3}, \"text\": [\"Alabama\", \"Alaska\", \"Arizona\", \"Arkansas\", \"California\", \"Colorado\", \"Connecticut\", \"Delaware\", \"Washington DC\", \"Florida\", \"Georgia\", \"Idaho\", \"Illinois\", \"Indiana\", \"Iowa\", \"Kansas\", \"Kentucky\", \"Louisiana\", \"Maine\", \"Maryland\", \"Massachusetts\", \"Michigan\", \"Minnesota\", \"Mississippi\", \"Missouri\", \"Montana\"], \"y\": [64.0, 0.4, 12.0, 34.0, 100.0, 17.0, 518.0, 226.0, 12524.0, 91.0, 68.0, 8.1, 180.0, 129.0, 49.0, 27.0, 76.0, 72.0, 31.0, 314.0, 655.0, 137.0, 43.0, 46.0, 63.0, 4.6], \"type\": \"box\", \"uid\": \"f4681600-6078-4c1d-9792-9e25cda0e7f8\", \"xaxis\": \"x3\", \"yaxis\": \"y3\"}, {\"boxmean\": true, \"boxpoints\": \"all\", \"marker\": {\"size\": 3}, \"text\": [\"Alabama\", \"Alaska\", \"Arizona\", \"Arkansas\", \"California\", \"Colorado\", \"Connecticut\", \"Delaware\", \"Washington DC\", \"Florida\", \"Georgia\", \"Idaho\", \"Illinois\", \"Indiana\", \"Iowa\", \"Kansas\", \"Kentucky\", \"Louisiana\", \"Maine\", \"Maryland\", \"Massachusetts\", \"Michigan\", \"Minnesota\", \"Mississippi\", \"Missouri\", \"Montana\"], \"y\": [66.0, 5.9, 33.0, 73.0, 118.0, 73.0, 5.1, 3.4, 0.0, 57.0, 83.0, 40.0, 102.0, 89.0, 100.0, 124.0, 65.0, 40.0, 19.0, 29.0, 17.0, 95.0, 110.0, 59.0, 100.0, 72.0], \"type\": \"box\", \"uid\": \"1e34bd3e-cc0b-4b2a-b97c-e7aabd968054\", \"xaxis\": \"x4\", \"yaxis\": \"y4\"}, {\"boxmean\": true, \"boxpoints\": \"all\", \"marker\": {\"size\": 3}, \"text\": [\"Alabama\", \"Alaska\", \"Arizona\", \"Arkansas\", \"California\", \"Colorado\", \"Connecticut\", \"Delaware\", \"Washington DC\", \"Florida\", \"Georgia\", \"Idaho\", \"Illinois\", \"Indiana\", \"Iowa\", \"Kansas\", \"Kentucky\", \"Louisiana\", \"Maine\", \"Maryland\", \"Massachusetts\", \"Michigan\", \"Minnesota\", \"Mississippi\", \"Missouri\", \"Montana\"], \"y\": [62, 30, 64, 51, 65, 42, 37, 41, 44, 67, 54, 36, 33, 37, 30, 42, 44, 65, 30, 44, 37, 33, 22, 57, 40, 29], \"type\": \"box\", \"uid\": \"ca912959-cb35-4cc1-bdc8-44e07d324f4c\", \"xaxis\": \"x5\", \"yaxis\": \"y5\"}, {\"boxmean\": true, \"boxpoints\": \"all\", \"marker\": {\"size\": 3}, \"text\": [\"Alabama\", \"Alaska\", \"Arizona\", \"Arkansas\", \"California\", \"Colorado\", \"Connecticut\", \"Delaware\", \"Washington DC\", \"Florida\", \"Georgia\", \"Idaho\", \"Illinois\", \"Indiana\", \"Iowa\", \"Kansas\", \"Kentucky\", \"Louisiana\", \"Maine\", \"Maryland\", \"Massachusetts\", \"Michigan\", \"Minnesota\", \"Mississippi\", \"Missouri\", \"Montana\"], \"y\": [119.0, 6.2, 65.0, 74.0, 105.0, 78.0, 95.0, 20.0, 23.0, 216.0, 162.0, 29.0, 350.0, 196.0, 109.0, 94.0, 104.0, 109.0, 37.0, 113.0, 166.0, 306.0, 132.0, 77.0, 180.0, 31.0], \"type\": \"box\", \"uid\": \"02de02df-aec8-4049-887a-5642dcfa7400\", \"xaxis\": \"x6\", \"yaxis\": \"y6\"}], {\"annotations\": [{\"font\": {\"size\": 10}, \"showarrow\": false, \"text\": \"Deaths\", \"x\": 0.14444444444444446, \"xanchor\": \"center\", \"xref\": \"paper\", \"y\": 1.0, \"yanchor\": \"bottom\", \"yref\": \"paper\"}, {\"font\": {\"size\": 10}, \"showarrow\": false, \"text\": \"Number of drivers (10,000)\", \"x\": 0.5, \"xanchor\": \"center\", \"xref\": \"paper\", \"y\": 1.0, \"yanchor\": \"bottom\", \"yref\": \"paper\"}, {\"font\": {\"size\": 10}, \"showarrow\": false, \"text\": \"Population density (people/mile**2)\", \"x\": 0.8555555555555556, \"xanchor\": \"center\", \"xref\": \"paper\", \"y\": 1.0, \"yanchor\": \"bottom\", \"yref\": \"paper\"}, {\"font\": {\"size\": 10}, \"showarrow\": false, \"text\": \"Length of rural roads (1000 miles)\", \"x\": 0.14444444444444446, \"xanchor\": \"center\", \"xref\": \"paper\", \"y\": 0.375, \"yanchor\": \"bottom\", \"yref\": \"paper\"}, {\"font\": {\"size\": 10}, \"showarrow\": false, \"text\": \"Average daily max temperature in Jan\", \"x\": 0.5, \"xanchor\": \"center\", \"xref\": \"paper\", \"y\": 0.375, \"yanchor\": \"bottom\", \"yref\": \"paper\"}, {\"font\": {\"size\": 10}, \"showarrow\": false, \"text\": \"Fuel consumption (10**7 US gal/year)\", \"x\": 0.8555555555555556, \"xanchor\": \"center\", \"xref\": \"paper\", \"y\": 0.375, \"yanchor\": \"bottom\", \"yref\": \"paper\"}], \"xaxis\": {\"anchor\": \"y\", \"domain\": [0.0, 0.2888888888888889], \"showticklabels\": false}, \"yaxis\": {\"anchor\": \"x\", \"domain\": [0.625, 1.0]}, \"xaxis2\": {\"anchor\": \"y2\", \"domain\": [0.35555555555555557, 0.6444444444444445], \"showticklabels\": false}, \"yaxis2\": {\"anchor\": \"x2\", \"domain\": [0.625, 1.0]}, \"xaxis3\": {\"anchor\": \"y3\", \"domain\": [0.7111111111111111, 1.0], \"showticklabels\": false}, \"yaxis3\": {\"anchor\": \"x3\", \"domain\": [0.625, 1.0]}, \"xaxis4\": {\"anchor\": \"y4\", \"domain\": [0.0, 0.2888888888888889], \"showticklabels\": false}, \"yaxis4\": {\"anchor\": \"x4\", \"domain\": [0.0, 0.375]}, \"xaxis5\": {\"anchor\": \"y5\", \"domain\": [0.35555555555555557, 0.6444444444444445], \"showticklabels\": false}, \"yaxis5\": {\"anchor\": \"x5\", \"domain\": [0.0, 0.375]}, \"xaxis6\": {\"anchor\": \"y6\", \"domain\": [0.7111111111111111, 1.0], \"showticklabels\": false}, \"yaxis6\": {\"anchor\": \"x6\", \"domain\": [0.0, 0.375]}, \"height\": 800, \"width\": 800, \"title\": \"<b>Figure 1: Box Plot of the Road Accidents dataset</b>\", \"showlegend\": false}, {\"showLink\": true, \"linkText\": \"Export to plot.ly\", \"plotlyServerURL\": \"https://plot.ly\"})});</script>"
      ]
     },
     "metadata": {},
     "output_type": "display_data"
    }
   ],
   "source": [
    "# all traces are labelled by the State column for easier understanding\n",
    "# we'll also draw mean lines (dashed)\n",
    "trace1 = go.Box(y=df.iloc[:,1], marker = dict(size=3), text = df['State'], boxpoints='all', boxmean = True)\n",
    "trace2 = go.Box(y=df.iloc[:,2], marker = dict(size=3), text = df['State'], boxpoints='all', boxmean = True )\n",
    "trace3 = go.Box(y=df.iloc[:,3], marker = dict(size=3), text = df['State'], boxpoints='all', boxmean = True )\n",
    "trace4 = go.Box(y=df.iloc[:,4], marker = dict(size=3), text = df['State'], boxpoints='all', boxmean = True )\n",
    "trace5 = go.Box(y=df.iloc[:,5], marker = dict(size=3), text = df['State'], boxpoints='all', boxmean = True )\n",
    "trace6 = go.Box(y=df.iloc[:,6], marker = dict(size=3), text = df['State'], boxpoints='all', boxmean = True )\n",
    "\n",
    "# we have to make subplots because the scales are different for the variables\n",
    "fig = tools.make_subplots(rows=2, cols=3, print_grid=False,\n",
    "                          subplot_titles= (df.columns[1], df.columns[2], df.columns[3],\n",
    "                                           df.columns[4], df.columns[5], df.columns[6]\n",
    "                                                          ))\n",
    "\n",
    "fig.append_trace(trace1, 1, 1)\n",
    "fig.append_trace(trace2, 1, 2)\n",
    "fig.append_trace(trace3, 1, 3)\n",
    "fig.append_trace(trace4, 2, 1)\n",
    "fig.append_trace(trace5, 2, 2)\n",
    "fig.append_trace(trace6, 2, 3)\n",
    "\n",
    "fig['layout'].update(height=800, width=800, title='<b>Figure 1: Box Plot of the Road Accidents dataset</b>'\n",
    "                    )\n",
    "fig['layout'].update(showlegend=False)\n",
    "\n",
    "# https://github.com/plotly/plotly.py/issues/985\n",
    "for i in fig['layout']['annotations']:\n",
    "    i['font'] = dict(size=10)\n",
    "\n",
    "for prop in fig.layout:\n",
    "    if prop.startswith('xaxis'):\n",
    "        # don't really need both xaxis label and subplot title, so turn xaxis label off\n",
    "        fig.layout[prop].showticklabels = False\n",
    "\n",
    "iplot(fig)"
   ]
  },
  {
   "cell_type": "markdown",
   "metadata": {},
   "source": [
    "Figure 1 shows that for most of the variables, there is at least one point in each that extends beyond the whiskers (outliers). Interestingly, however, the length of rural roads and the average daily max temperature in January are evenly spread (probably normally distributed).\n",
    "\n",
    "From this, we can make the following observations:\n",
    "1. The state of California has an extremely high number of deaths compared to the other states.\n",
    "1. There are significantly more drivers in California and Illinois than the other states, which could partially explain the higher number of deaths.\n",
    "1. Washington, DC, which is a federal district and the capital of the US, has a significantly high population density. This is probably caused by the small land area with a concentration of foreign diplomats living in the capital.\n",
    "1. The fuel consumption in Illinois is at the higher extreme end for unknown reasons.\n",
    "1. With the exception of the population density, all the variables have their average values (mean, dashed line) close to their medians.\n",
    "\n",
    "The same information can also be tabulated through the Pandas `describe()` function, which can be useful for programmatic access to the descriptive statistics."
   ]
  },
  {
   "cell_type": "code",
   "execution_count": null,
   "metadata": {},
   "outputs": [],
   "source": [
    "# http://www.datasciencemadesimple.com/format-integer-column-of-dataframe-in-python-pandas/\n",
    "pd.options.display.float_format = '{:,.2f}'.format # round to the 2 decimal places\n",
    "df.describe()"
   ]
  },
  {
   "cell_type": "markdown",
   "metadata": {},
   "source": [
    "To determine the correlations between these variables, a scatterplot matrix can be drawn."
   ]
  },
  {
   "cell_type": "code",
   "execution_count": null,
   "metadata": {},
   "outputs": [],
   "source": [
    "# https://community.plot.ly/t/splom-scatter-matrix-changing-styles-of-all-axes-in-one-go/16636/2\n",
    "# https://plot.ly/python/splom/\n",
    "\n",
    "# initiate placeholders\n",
    "dataPanda = []\n",
    "label = ''\n",
    "\n",
    "for column in list(df.columns):\n",
    "        \n",
    "    columnSplit = column.split(' ') # create a list of string from the column name\n",
    "    \n",
    "    for i in columnSplit:\n",
    "        label = label + i + '<br>' # because plotly uses JavaScript, we can use the html <br> tag to split to next line\n",
    "    \n",
    "    # inspired by: https://stackoverflow.com/questions/43229013/\n",
    "    for i in range(3):\n",
    "        label = '<br>' + label + '<br>'\n",
    "    \n",
    "    label = '<i>' + label + '</i>'\n",
    "    trace = dict(label = label, values = df[column])\n",
    "    \n",
    "    dataPanda.append(trace)\n",
    "    label = '' # reset the variable for next for iteration\n",
    "\n",
    "trace1 = go.Splom(dimensions=dataPanda, showupperhalf=False, marker=dict(size=3, color='green'), text = df['State'])\n",
    "data = [trace1]\n",
    "\n",
    "layout = go.Layout(title = '<b>Figure 2: Scatterplot Matrix of the Road Accidents dataset</b>',\n",
    "                font=dict(size=8.5), # global font\n",
    "                titlefont=dict(size=20), # but we want only title to have different size\n",
    "                margin = dict(l = 150, r = 20, b = 150) # layout control- left, right, bottom, top (t) and padding (pad )\n",
    "                )           \n",
    "\n",
    "fig = go.Figure(data=data, layout=layout)\n",
    "fig['layout'].update(height=800, width=900)\n",
    "\n",
    "iplot(fig)"
   ]
  },
  {
   "cell_type": "markdown",
   "metadata": {},
   "source": [
    "As shown in Figure 2, there are strong positive correlations between the number of deaths and the number of drivers, length of rural roads (presumably these have lower quality surfacing and lighting), average daily maximum temperature in January and fuel consumption. However, it should be noted that strong correlations do not mean causation.\n",
    "\n",
    "***\n",
    "\n",
    "## <a id='alternativesToBoxPlots'></a>Alternatives to Box Plots\n",
    "\n",
    "Although it seems the box plots are useful for summarizing a given dataset, it is by itself insufficient to capture the full content of the dataset.\n",
    "\n",
    "For instance, a bimodal dataset with most values being 10 and 15 will not be represented as such in a box plot:\n",
    "\n",
    "<img src='bimodal_bee_swarm.png' width='200'>\n",
    "<div align='right'><i>Taken from <a href='http://www.physics.csbsju.edu/stats/box2.html'>Statistics to Use</i></a></div>\n",
    "\n",
    "As a box plot does not show the data distribution, modifications to the classical box plots have been proposed. However, their usage within scientific publications is still rather limited.\n",
    "\n",
    "### Violin Plot\n",
    "\n",
    "The most directly comparable alternative to box plot is the [violin plot](https://en.wikipedia.org/wiki/Violin_plot). Although rarely used, it is actually more informative than box plots but require some non-intuitive interpretation. Plotly provides a [wrapper function to create violin plots](https://plot.ly/python/violin/), which is useful in explaining the differences with respect to the Road Accidents dataset."
   ]
  },
  {
   "cell_type": "code",
   "execution_count": null,
   "metadata": {},
   "outputs": [],
   "source": [
    "data = []\n",
    "\n",
    "for i in range(1, len(df.columns)):\n",
    "    trace = go.Violin(y=df.iloc[:,i], text = df['State'], points = 'all', marker = dict(size=3), box=dict(visible=True))\n",
    "    data.append(trace)\n",
    "\n",
    "# we have to make subplots because the scales are different for the variables\n",
    "fig = tools.make_subplots(rows=2, cols=3, print_grid=False,\n",
    "                          subplot_titles= (df.columns[1], df.columns[2], df.columns[3],\n",
    "                                           df.columns[4], df.columns[5], df.columns[6]\n",
    "                                                          ))\n",
    "\n",
    "fig.append_trace(data[0], 1, 1)\n",
    "fig.append_trace(data[1], 1, 2)\n",
    "fig.append_trace(data[2], 1, 3)\n",
    "fig.append_trace(data[3], 2, 1)\n",
    "fig.append_trace(data[4], 2, 2)\n",
    "fig.append_trace(data[5], 2, 3)\n",
    "\n",
    "fig['layout'].update(height=600, width=800, title='<b>Figure 3: Violin Plot of the Road Accidents dataset<br>' +\n",
    "                     'With Box Plots</b>')\n",
    "fig['layout'].update(showlegend=False)\n",
    "\n",
    "# https://github.com/plotly/plotly.py/issues/985\n",
    "for i in fig['layout']['annotations']:\n",
    "    i['font'] = dict(size=11)\n",
    "\n",
    "for prop in fig.layout:\n",
    "    if prop.startswith('xaxis'):\n",
    "        # don't really need both xaxis label and subplot title, so turn xaxis label off\n",
    "        fig.layout[prop].showticklabels = False\n",
    "\n",
    "iplot(fig)"
   ]
  },
  {
   "cell_type": "markdown",
   "metadata": {},
   "source": [
    "Compared to the box plot, in addition to the five-number summary (median, the two quartiles, minimum/maximum, whiskers and outliers), we also obtain the kernal density estimate (kde) in a violin plot. This means that the thickest section corresponds to the data mode (the $x$ value with the highest occurence/frequency). In this case, most states have about 700 deaths caused by road accidents and about 1,000,000 (100 x 10000) drivers - note that no two states have the exactly same values, so these numbers are midpoints of where most of the values cluster together.\n",
    "\n",
    "Violin plots are actually similar to vase plots, except the former use all the data to create the density curve whereas vase plots only use the central 50 %, leading to the presence of whiskers and outliers [(reference)](https://pdfs.semanticscholar.org/d315/05d5b6d61ad75a5ae6ded8fa5b7202e66372.pdf). Secondly, violin plots use kde while vase plots employ non-parametric density estimation.\n",
    "\n",
    "### Other Variants of Box Plots\n",
    "\n",
    "When the box plot was first published in 1970, there was no sophisticated graphical software or libraries for creating plots with non-rectangular shapes. In this era, however, there is no reason to not include additional shapes...\n",
    "\n",
    "\n",
    "These are beanplot: \n",
    "\n",
    "pirate plot: https://www.r-bloggers.com/the-pirate-plot-an-r-pirates-favorite-plot/\n",
    "http://rgraphgallery.blogspot.com/2013/04/rg-beanplot.html\n",
    "\n",
    "http://datavizcatalogue.com/blog/box-plot-variations/\n",
    "\n",
    "One of the original constraints on the boxplot was that it was designed to be computed and drawn by hand. As every statistician now has a computer on their desk, this constraint can be relaxed, allowing variations of the boxplot that are substantially more complex. These variations attempt to display more information about the distribution, maintaining the compact size of the boxplot, but bringing in the richer distributional summary of the histogram or density plot. These plots can overcome problems in the original such as the failure to display multi-modality, or the excessive number of “outliers” when n is large.\n",
    "Pg. 5, 40 years of boxplots"
   ]
  },
  {
   "cell_type": "markdown",
   "metadata": {},
   "source": [
    "### Maps for Geographical Datasets\n",
    "Alternatively, for geographical datasets, the use of maps can help in identifying trends. For instance, it could be that the western states have a higher number of deaths than the eastern states.\n",
    "\n",
    "As the [Plotly choropleth map function](https://plot.ly/python/county-choropleth/) requires the locations to be coded in one of several predefined format, we will need to map the State names to their corresponding codes."
   ]
  },
  {
   "cell_type": "code",
   "execution_count": null,
   "metadata": {},
   "outputs": [],
   "source": [
    "# modified from https://stackoverflow.com/questions/48979352/choropleth-map-in-python-using-plotly-without-state-codes\n",
    "state_codes = {\n",
    "    'Washington DC' : 'dc','Mississippi': 'MS', 'Oklahoma': 'OK', \n",
    "    'Delaware': 'DE', 'Minnesota': 'MN', 'Illinois': 'IL', 'Arkansas': 'AR', \n",
    "    'New Mexico': 'NM', 'Indiana': 'IN', 'Maryland': 'MD', 'Louisiana': 'LA', \n",
    "    'Idaho': 'ID', 'Wyoming': 'WY', 'Tennessee': 'TN', 'Arizona': 'AZ', \n",
    "    'Iowa': 'IA', 'Michigan': 'MI', 'Kansas': 'KS', 'Utah': 'UT', \n",
    "    'Virginia': 'VA', 'Oregon': 'OR', 'Connecticut': 'CT', 'Montana': 'MT', \n",
    "    'California': 'CA', 'Massachusetts': 'MA', 'West Virginia': 'WV', \n",
    "    'South Carolina': 'SC', 'New Hampshire': 'NH', 'Wisconsin': 'WI',\n",
    "    'Vermont': 'VT', 'Georgia': 'GA', 'North Dakota': 'ND', \n",
    "    'Pennsylvania': 'PA', 'Florida': 'FL', 'Alaska': 'AK', 'Kentucky': 'KY', \n",
    "    'Hawaii': 'HI', 'Nebraska': 'NE', 'Missouri': 'MO', 'Ohio': 'OH', \n",
    "    'Alabama': 'AL', 'Rhode Island': 'RI', 'South Dakota': 'SD', \n",
    "    'Colorado': 'CO', 'New Jersey': 'NJ', 'Washington': 'WA', \n",
    "    'North Carolina': 'NC', 'New York': 'NY', 'Texas': 'TX', \n",
    "    'Nevada': 'NV', 'Maine': 'ME'}\n",
    "\n",
    "df['state_code'] = df['State'].apply(lambda x : state_codes[x])"
   ]
  },
  {
   "cell_type": "code",
   "execution_count": null,
   "metadata": {},
   "outputs": [],
   "source": [
    "# concatenate string with numeric columns:\n",
    "# https://stackoverflow.com/questions/11858472/pandas-combine-string-and-int-columns\n",
    "# https://stackoverflow.com/questions/50782934/what-is-difference-between-mapstr-and-astypestr-in-dataframe\n",
    "# we use PEP8 recommendation to link multi-line codes in parentheses\n",
    "\n",
    "df['text'] = (\n",
    "            df['State'] + '<br>' + df.columns[1] + ': ' + df.iloc[:, 1].astype(str) +\n",
    "                          '<br>' + df.columns[2] + ': ' + df.iloc[:, 2].astype(str) +\n",
    "                          '<br>' + df.columns[3] + ': ' + df.iloc[:, 3].astype(str) +\n",
    "                          '<br>' + df.columns[4] + ': ' + df.iloc[:, 4].astype(str) +\n",
    "                          '<br>' + df.columns[5] + ': ' + df.iloc[:, 5].astype(str) +\n",
    "                          '<br>' + df.columns[6] + ': ' + df.iloc[:, 6].astype(str)\n",
    "            )\n",
    "\n",
    "data = [ dict(\n",
    "        type='choropleth',\n",
    "       # colorscale = 'Reds',\n",
    "        autocolorscale = True,\n",
    "        hoverinfo = 'text', # change from default 'all' so that we don't display to z values on top\n",
    "        locations = df['state_code'],\n",
    "        z = df['Deaths'],\n",
    "        locationmode = 'USA-states',\n",
    "        text = df['text'],\n",
    "        marker = dict(\n",
    "            line = dict (\n",
    "                color = 'rgb(255,255,255)',\n",
    "                width = 2\n",
    "            ) ),\n",
    "        colorbar = dict(\n",
    "            title = '<b>Deaths</b>')\n",
    "        ) ]\n",
    "\n",
    "layout = dict(\n",
    "        title = '<b>Figure 4: Choropleth Map of Road Accidents in the United States</b><br><i>(Hover for breakdown)</i>',\n",
    "        geo = dict(\n",
    "            scope='usa',\n",
    "            projection=dict( type='albers usa' ),\n",
    "            showlakes = True,\n",
    "            lakecolor = 'rgb(0, 0, 255)'), # lakes are in blue\n",
    "             )\n",
    "    \n",
    "fig = dict(data=data, layout=layout)\n",
    "iplot(fig)"
   ]
  },
  {
   "cell_type": "markdown",
   "metadata": {},
   "source": [
    "From the map, we can see that California is quite a large state, a piece of information that could not have been gleaned by the more generic box or violin plots. Perhaps due to this, there is a high number of drivers and deaths. Secondly, we note that there are more eastern states in the dataset than the western states. The large blue sections on the northeastern region are the [Great Lakes](https://en.wikipedia.org/wiki/Great_Lakes).\n",
    "\n",
    "\n",
    "***\n",
    "## <a id='discussion'></a>Discussion\n",
    "\n",
    "We have seen how useful the box plot is, how it can be augmented by a violin plot and in certain cases, even a geographical map.\n",
    "\n",
    "***\n",
    "## <a id='conclusion'></a>Conclusion\n",
    "\n",
    "We have seen how useful the box plot is, how it can be augmented by a violin plot and in certain cases, even a geographical map."
   ]
  }
 ],
 "metadata": {
  "kernelspec": {
   "display_name": "Python 3",
   "language": "python",
   "name": "python3"
  },
  "language_info": {
   "codemirror_mode": {
    "name": "ipython",
    "version": 3
   },
   "file_extension": ".py",
   "mimetype": "text/x-python",
   "name": "python",
   "nbconvert_exporter": "python",
   "pygments_lexer": "ipython3",
   "version": "3.7.1"
  }
 },
 "nbformat": 4,
 "nbformat_minor": 2
}
